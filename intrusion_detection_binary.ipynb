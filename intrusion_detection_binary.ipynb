{
  "cells": [
    {
      "cell_type": "code",
      "execution_count": null,
      "metadata": {
        "id": "4UJ4vHPcetg6"
      },
      "outputs": [],
      "source": [
        "import numpy as np\n",
        "from datetime import datetime\n",
        "import pandas as pd\n",
        "import matplotlib.pyplot as plt\n",
        "from sklearn import preprocessing\n",
        "from sklearn.metrics import accuracy_score, confusion_matrix, recall_score\n",
        "from tensorflow.keras.models import Sequential\n",
        "from tensorflow.keras.layers import Dense\n",
        "from keras.callbacks import EarlyStopping, ModelCheckpoint"
      ]
    },
    {
      "cell_type": "code",
      "execution_count": 2,
      "metadata": {
        "colab": {
          "base_uri": "https://localhost:8080/"
        },
        "id": "fD0E_vi5h19r",
        "outputId": "4b846a54-46ef-4c90-f6f0-672e32f8b362"
      },
      "outputs": [],
      "source": [
        "# physical_devices = tf.config.list_physical_devices(\"GPU\")\n",
        "# tf.config.experimental.set_memory_growth(physical_devices[0], True)\n",
        "# print(physical_devices)"
      ]
    },
    {
      "cell_type": "code",
      "execution_count": 4,
      "metadata": {
        "id": "wP-9zuPqetg9"
      },
      "outputs": [],
      "source": [
        "train = pd.read_csv('Dataset/KDDTrain+.csv')\n",
        "test = pd.read_csv('Dataset/KDDTest+.csv')\n",
        "test2 = pd.read_csv('Dataset/KDDTest-21.csv')"
      ]
    },
    {
      "cell_type": "code",
      "execution_count": 5,
      "metadata": {
        "colab": {
          "base_uri": "https://localhost:8080/",
          "height": 299
        },
        "id": "fNqkUNqQetg9",
        "outputId": "b05e5d2f-da49-4915-e65d-edc27f45d583"
      },
      "outputs": [
        {
          "data": {
            "text/html": [
              "<div>\n",
              "<style scoped>\n",
              "    .dataframe tbody tr th:only-of-type {\n",
              "        vertical-align: middle;\n",
              "    }\n",
              "\n",
              "    .dataframe tbody tr th {\n",
              "        vertical-align: top;\n",
              "    }\n",
              "\n",
              "    .dataframe thead th {\n",
              "        text-align: right;\n",
              "    }\n",
              "</style>\n",
              "<table border=\"1\" class=\"dataframe\">\n",
              "  <thead>\n",
              "    <tr style=\"text-align: right;\">\n",
              "      <th></th>\n",
              "      <th>duration</th>\n",
              "      <th>protocol_type</th>\n",
              "      <th>service</th>\n",
              "      <th>flag</th>\n",
              "      <th>src_bytes</th>\n",
              "      <th>dst_bytes</th>\n",
              "      <th>land</th>\n",
              "      <th>wrong_fragment</th>\n",
              "      <th>urgent</th>\n",
              "      <th>hot</th>\n",
              "      <th>...</th>\n",
              "      <th>dst_host_srv_count</th>\n",
              "      <th>dst_host_same_srv_rate</th>\n",
              "      <th>dst_host_diff_srv_rate</th>\n",
              "      <th>dst_host_same_src_port_rate</th>\n",
              "      <th>dst_host_srv_diff_host_rate</th>\n",
              "      <th>dst_host_serror_rate</th>\n",
              "      <th>dst_host_srv_serror_rate</th>\n",
              "      <th>dst_host_rerror_rate</th>\n",
              "      <th>dst_host_srv_rerror_rate</th>\n",
              "      <th>class</th>\n",
              "    </tr>\n",
              "  </thead>\n",
              "  <tbody>\n",
              "    <tr>\n",
              "      <th>0</th>\n",
              "      <td>0</td>\n",
              "      <td>tcp</td>\n",
              "      <td>ftp_data</td>\n",
              "      <td>SF</td>\n",
              "      <td>491</td>\n",
              "      <td>0</td>\n",
              "      <td>0</td>\n",
              "      <td>0</td>\n",
              "      <td>0</td>\n",
              "      <td>0</td>\n",
              "      <td>...</td>\n",
              "      <td>25</td>\n",
              "      <td>0.17</td>\n",
              "      <td>0.03</td>\n",
              "      <td>0.17</td>\n",
              "      <td>0.00</td>\n",
              "      <td>0.00</td>\n",
              "      <td>0.00</td>\n",
              "      <td>0.05</td>\n",
              "      <td>0.00</td>\n",
              "      <td>normal</td>\n",
              "    </tr>\n",
              "    <tr>\n",
              "      <th>1</th>\n",
              "      <td>0</td>\n",
              "      <td>udp</td>\n",
              "      <td>other</td>\n",
              "      <td>SF</td>\n",
              "      <td>146</td>\n",
              "      <td>0</td>\n",
              "      <td>0</td>\n",
              "      <td>0</td>\n",
              "      <td>0</td>\n",
              "      <td>0</td>\n",
              "      <td>...</td>\n",
              "      <td>1</td>\n",
              "      <td>0.00</td>\n",
              "      <td>0.60</td>\n",
              "      <td>0.88</td>\n",
              "      <td>0.00</td>\n",
              "      <td>0.00</td>\n",
              "      <td>0.00</td>\n",
              "      <td>0.00</td>\n",
              "      <td>0.00</td>\n",
              "      <td>normal</td>\n",
              "    </tr>\n",
              "    <tr>\n",
              "      <th>2</th>\n",
              "      <td>0</td>\n",
              "      <td>tcp</td>\n",
              "      <td>private</td>\n",
              "      <td>S0</td>\n",
              "      <td>0</td>\n",
              "      <td>0</td>\n",
              "      <td>0</td>\n",
              "      <td>0</td>\n",
              "      <td>0</td>\n",
              "      <td>0</td>\n",
              "      <td>...</td>\n",
              "      <td>26</td>\n",
              "      <td>0.10</td>\n",
              "      <td>0.05</td>\n",
              "      <td>0.00</td>\n",
              "      <td>0.00</td>\n",
              "      <td>1.00</td>\n",
              "      <td>1.00</td>\n",
              "      <td>0.00</td>\n",
              "      <td>0.00</td>\n",
              "      <td>anomaly</td>\n",
              "    </tr>\n",
              "    <tr>\n",
              "      <th>3</th>\n",
              "      <td>0</td>\n",
              "      <td>tcp</td>\n",
              "      <td>http</td>\n",
              "      <td>SF</td>\n",
              "      <td>232</td>\n",
              "      <td>8153</td>\n",
              "      <td>0</td>\n",
              "      <td>0</td>\n",
              "      <td>0</td>\n",
              "      <td>0</td>\n",
              "      <td>...</td>\n",
              "      <td>255</td>\n",
              "      <td>1.00</td>\n",
              "      <td>0.00</td>\n",
              "      <td>0.03</td>\n",
              "      <td>0.04</td>\n",
              "      <td>0.03</td>\n",
              "      <td>0.01</td>\n",
              "      <td>0.00</td>\n",
              "      <td>0.01</td>\n",
              "      <td>normal</td>\n",
              "    </tr>\n",
              "    <tr>\n",
              "      <th>4</th>\n",
              "      <td>0</td>\n",
              "      <td>tcp</td>\n",
              "      <td>http</td>\n",
              "      <td>SF</td>\n",
              "      <td>199</td>\n",
              "      <td>420</td>\n",
              "      <td>0</td>\n",
              "      <td>0</td>\n",
              "      <td>0</td>\n",
              "      <td>0</td>\n",
              "      <td>...</td>\n",
              "      <td>255</td>\n",
              "      <td>1.00</td>\n",
              "      <td>0.00</td>\n",
              "      <td>0.00</td>\n",
              "      <td>0.00</td>\n",
              "      <td>0.00</td>\n",
              "      <td>0.00</td>\n",
              "      <td>0.00</td>\n",
              "      <td>0.00</td>\n",
              "      <td>normal</td>\n",
              "    </tr>\n",
              "  </tbody>\n",
              "</table>\n",
              "<p>5 rows × 42 columns</p>\n",
              "</div>"
            ],
            "text/plain": [
              "   duration protocol_type   service flag  src_bytes  dst_bytes  land  \\\n",
              "0         0           tcp  ftp_data   SF        491          0     0   \n",
              "1         0           udp     other   SF        146          0     0   \n",
              "2         0           tcp   private   S0          0          0     0   \n",
              "3         0           tcp      http   SF        232       8153     0   \n",
              "4         0           tcp      http   SF        199        420     0   \n",
              "\n",
              "   wrong_fragment  urgent  hot  ...  dst_host_srv_count  \\\n",
              "0               0       0    0  ...                  25   \n",
              "1               0       0    0  ...                   1   \n",
              "2               0       0    0  ...                  26   \n",
              "3               0       0    0  ...                 255   \n",
              "4               0       0    0  ...                 255   \n",
              "\n",
              "   dst_host_same_srv_rate  dst_host_diff_srv_rate  \\\n",
              "0                    0.17                    0.03   \n",
              "1                    0.00                    0.60   \n",
              "2                    0.10                    0.05   \n",
              "3                    1.00                    0.00   \n",
              "4                    1.00                    0.00   \n",
              "\n",
              "   dst_host_same_src_port_rate  dst_host_srv_diff_host_rate  \\\n",
              "0                         0.17                         0.00   \n",
              "1                         0.88                         0.00   \n",
              "2                         0.00                         0.00   \n",
              "3                         0.03                         0.04   \n",
              "4                         0.00                         0.00   \n",
              "\n",
              "   dst_host_serror_rate  dst_host_srv_serror_rate  dst_host_rerror_rate  \\\n",
              "0                  0.00                      0.00                  0.05   \n",
              "1                  0.00                      0.00                  0.00   \n",
              "2                  1.00                      1.00                  0.00   \n",
              "3                  0.03                      0.01                  0.00   \n",
              "4                  0.00                      0.00                  0.00   \n",
              "\n",
              "   dst_host_srv_rerror_rate    class  \n",
              "0                      0.00   normal  \n",
              "1                      0.00   normal  \n",
              "2                      0.00  anomaly  \n",
              "3                      0.01   normal  \n",
              "4                      0.00   normal  \n",
              "\n",
              "[5 rows x 42 columns]"
            ]
          },
          "execution_count": 5,
          "metadata": {},
          "output_type": "execute_result"
        }
      ],
      "source": [
        "train.head(5)"
      ]
    },
    {
      "cell_type": "code",
      "execution_count": 6,
      "metadata": {
        "id": "s6fLA9Atetg-"
      },
      "outputs": [],
      "source": [
        "att = {'normal':0,\n",
        "       'back':1,\n",
        "       'buffer_overflow':2,\n",
        "       'ftp_write':3,\n",
        "       'guess_passwd':3,\n",
        "       'imap':3,\n",
        "       'ipsweep':4,\n",
        "       'land':1,\n",
        "       'loadmodule':2,\n",
        "       'multihop':3,\n",
        "       'neptune':1,\n",
        "       'nmap':4,\n",
        "       'perl':2,\n",
        "       'phf':3,\n",
        "       'pod':1,\n",
        "       'portsweep':4,\n",
        "       'rootkit':2,\n",
        "       'satan':4,\n",
        "       'smurf':1,\n",
        "       'spy':3,\n",
        "       'teardrop':1,\n",
        "       'warezclient':3,\n",
        "       'warezmaster':3\n",
        "    }\n",
        "\n",
        "x_train = train.iloc[:, train.columns != 'class']\n",
        "y_train = train['class']\n",
        "\n",
        "x_test = test.iloc[:, test.columns != 'class']\n",
        "y_test = test['class']\n",
        "\n",
        "x_test2 = test2.iloc[:, test2.columns != 'class']\n",
        "y_test2 = test2['class']"
      ]
    },
    {
      "cell_type": "code",
      "execution_count": null,
      "metadata": {
        "colab": {
          "base_uri": "https://localhost:8080/"
        },
        "id": "ZRIZwneGetg_",
        "outputId": "4c782df4-89f9-4908-dcfd-d494678c2ea0"
      },
      "outputs": [],
      "source": [
        "#Encodes the categorical columns\n",
        "for column in x_train.columns:\n",
        "    if x_train[column].dtype == type(object):\n",
        "        le = preprocessing.LabelEncoder()\n",
        "        x_train[column] = le.fit_transform(x_train[column])\n",
        "\n",
        "for column in x_test.columns:\n",
        "    if x_test[column].dtype == type(object):\n",
        "        le = preprocessing.LabelEncoder()\n",
        "        x_test[column] = le.fit_transform(x_test[column])\n",
        "\n",
        "for column in x_test2.columns:\n",
        "    if x_test2[column].dtype == type(object):\n",
        "        le = preprocessing.LabelEncoder()\n",
        "        x_test2[column] = le.fit_transform(x_test2[column])"
      ]
    },
    {
      "cell_type": "code",
      "execution_count": 8,
      "metadata": {
        "colab": {
          "base_uri": "https://localhost:8080/",
          "height": 299
        },
        "id": "f9tKbUj4etg_",
        "outputId": "ba28be9e-7d01-494e-ae97-d3ed4454632b"
      },
      "outputs": [
        {
          "data": {
            "text/html": [
              "<div>\n",
              "<style scoped>\n",
              "    .dataframe tbody tr th:only-of-type {\n",
              "        vertical-align: middle;\n",
              "    }\n",
              "\n",
              "    .dataframe tbody tr th {\n",
              "        vertical-align: top;\n",
              "    }\n",
              "\n",
              "    .dataframe thead th {\n",
              "        text-align: right;\n",
              "    }\n",
              "</style>\n",
              "<table border=\"1\" class=\"dataframe\">\n",
              "  <thead>\n",
              "    <tr style=\"text-align: right;\">\n",
              "      <th></th>\n",
              "      <th>duration</th>\n",
              "      <th>protocol_type</th>\n",
              "      <th>service</th>\n",
              "      <th>flag</th>\n",
              "      <th>src_bytes</th>\n",
              "      <th>dst_bytes</th>\n",
              "      <th>land</th>\n",
              "      <th>wrong_fragment</th>\n",
              "      <th>urgent</th>\n",
              "      <th>hot</th>\n",
              "      <th>...</th>\n",
              "      <th>dst_host_count</th>\n",
              "      <th>dst_host_srv_count</th>\n",
              "      <th>dst_host_same_srv_rate</th>\n",
              "      <th>dst_host_diff_srv_rate</th>\n",
              "      <th>dst_host_same_src_port_rate</th>\n",
              "      <th>dst_host_srv_diff_host_rate</th>\n",
              "      <th>dst_host_serror_rate</th>\n",
              "      <th>dst_host_srv_serror_rate</th>\n",
              "      <th>dst_host_rerror_rate</th>\n",
              "      <th>dst_host_srv_rerror_rate</th>\n",
              "    </tr>\n",
              "  </thead>\n",
              "  <tbody>\n",
              "    <tr>\n",
              "      <th>0</th>\n",
              "      <td>0</td>\n",
              "      <td>1</td>\n",
              "      <td>20</td>\n",
              "      <td>9</td>\n",
              "      <td>491</td>\n",
              "      <td>0</td>\n",
              "      <td>0</td>\n",
              "      <td>0</td>\n",
              "      <td>0</td>\n",
              "      <td>0</td>\n",
              "      <td>...</td>\n",
              "      <td>150</td>\n",
              "      <td>25</td>\n",
              "      <td>0.17</td>\n",
              "      <td>0.03</td>\n",
              "      <td>0.17</td>\n",
              "      <td>0.00</td>\n",
              "      <td>0.00</td>\n",
              "      <td>0.00</td>\n",
              "      <td>0.05</td>\n",
              "      <td>0.00</td>\n",
              "    </tr>\n",
              "    <tr>\n",
              "      <th>1</th>\n",
              "      <td>0</td>\n",
              "      <td>2</td>\n",
              "      <td>44</td>\n",
              "      <td>9</td>\n",
              "      <td>146</td>\n",
              "      <td>0</td>\n",
              "      <td>0</td>\n",
              "      <td>0</td>\n",
              "      <td>0</td>\n",
              "      <td>0</td>\n",
              "      <td>...</td>\n",
              "      <td>255</td>\n",
              "      <td>1</td>\n",
              "      <td>0.00</td>\n",
              "      <td>0.60</td>\n",
              "      <td>0.88</td>\n",
              "      <td>0.00</td>\n",
              "      <td>0.00</td>\n",
              "      <td>0.00</td>\n",
              "      <td>0.00</td>\n",
              "      <td>0.00</td>\n",
              "    </tr>\n",
              "    <tr>\n",
              "      <th>2</th>\n",
              "      <td>0</td>\n",
              "      <td>1</td>\n",
              "      <td>49</td>\n",
              "      <td>5</td>\n",
              "      <td>0</td>\n",
              "      <td>0</td>\n",
              "      <td>0</td>\n",
              "      <td>0</td>\n",
              "      <td>0</td>\n",
              "      <td>0</td>\n",
              "      <td>...</td>\n",
              "      <td>255</td>\n",
              "      <td>26</td>\n",
              "      <td>0.10</td>\n",
              "      <td>0.05</td>\n",
              "      <td>0.00</td>\n",
              "      <td>0.00</td>\n",
              "      <td>1.00</td>\n",
              "      <td>1.00</td>\n",
              "      <td>0.00</td>\n",
              "      <td>0.00</td>\n",
              "    </tr>\n",
              "    <tr>\n",
              "      <th>3</th>\n",
              "      <td>0</td>\n",
              "      <td>1</td>\n",
              "      <td>24</td>\n",
              "      <td>9</td>\n",
              "      <td>232</td>\n",
              "      <td>8153</td>\n",
              "      <td>0</td>\n",
              "      <td>0</td>\n",
              "      <td>0</td>\n",
              "      <td>0</td>\n",
              "      <td>...</td>\n",
              "      <td>30</td>\n",
              "      <td>255</td>\n",
              "      <td>1.00</td>\n",
              "      <td>0.00</td>\n",
              "      <td>0.03</td>\n",
              "      <td>0.04</td>\n",
              "      <td>0.03</td>\n",
              "      <td>0.01</td>\n",
              "      <td>0.00</td>\n",
              "      <td>0.01</td>\n",
              "    </tr>\n",
              "    <tr>\n",
              "      <th>4</th>\n",
              "      <td>0</td>\n",
              "      <td>1</td>\n",
              "      <td>24</td>\n",
              "      <td>9</td>\n",
              "      <td>199</td>\n",
              "      <td>420</td>\n",
              "      <td>0</td>\n",
              "      <td>0</td>\n",
              "      <td>0</td>\n",
              "      <td>0</td>\n",
              "      <td>...</td>\n",
              "      <td>255</td>\n",
              "      <td>255</td>\n",
              "      <td>1.00</td>\n",
              "      <td>0.00</td>\n",
              "      <td>0.00</td>\n",
              "      <td>0.00</td>\n",
              "      <td>0.00</td>\n",
              "      <td>0.00</td>\n",
              "      <td>0.00</td>\n",
              "      <td>0.00</td>\n",
              "    </tr>\n",
              "  </tbody>\n",
              "</table>\n",
              "<p>5 rows × 41 columns</p>\n",
              "</div>"
            ],
            "text/plain": [
              "   duration  protocol_type  service  flag  src_bytes  dst_bytes  land  \\\n",
              "0         0              1       20     9        491          0     0   \n",
              "1         0              2       44     9        146          0     0   \n",
              "2         0              1       49     5          0          0     0   \n",
              "3         0              1       24     9        232       8153     0   \n",
              "4         0              1       24     9        199        420     0   \n",
              "\n",
              "   wrong_fragment  urgent  hot  ...  dst_host_count  dst_host_srv_count  \\\n",
              "0               0       0    0  ...             150                  25   \n",
              "1               0       0    0  ...             255                   1   \n",
              "2               0       0    0  ...             255                  26   \n",
              "3               0       0    0  ...              30                 255   \n",
              "4               0       0    0  ...             255                 255   \n",
              "\n",
              "   dst_host_same_srv_rate  dst_host_diff_srv_rate  \\\n",
              "0                    0.17                    0.03   \n",
              "1                    0.00                    0.60   \n",
              "2                    0.10                    0.05   \n",
              "3                    1.00                    0.00   \n",
              "4                    1.00                    0.00   \n",
              "\n",
              "   dst_host_same_src_port_rate  dst_host_srv_diff_host_rate  \\\n",
              "0                         0.17                         0.00   \n",
              "1                         0.88                         0.00   \n",
              "2                         0.00                         0.00   \n",
              "3                         0.03                         0.04   \n",
              "4                         0.00                         0.00   \n",
              "\n",
              "   dst_host_serror_rate  dst_host_srv_serror_rate  dst_host_rerror_rate  \\\n",
              "0                  0.00                      0.00                  0.05   \n",
              "1                  0.00                      0.00                  0.00   \n",
              "2                  1.00                      1.00                  0.00   \n",
              "3                  0.03                      0.01                  0.00   \n",
              "4                  0.00                      0.00                  0.00   \n",
              "\n",
              "   dst_host_srv_rerror_rate  \n",
              "0                      0.00  \n",
              "1                      0.00  \n",
              "2                      0.00  \n",
              "3                      0.01  \n",
              "4                      0.00  \n",
              "\n",
              "[5 rows x 41 columns]"
            ]
          },
          "execution_count": 8,
          "metadata": {},
          "output_type": "execute_result"
        }
      ],
      "source": [
        "x_train.head(5)"
      ]
    },
    {
      "cell_type": "code",
      "execution_count": 9,
      "metadata": {
        "id": "I-4zZaxSetg_"
      },
      "outputs": [],
      "source": [
        "Y_train = []\n",
        "Y_test = []\n",
        "Y_test2 = []\n",
        "\n",
        "#Assigning integers to represent the 22 types of attacks\n",
        "for i in y_train:\n",
        "    if i in att.keys():\n",
        "        if att[i] == 0:\n",
        "            Y_train.append(0)\n",
        "        else:\n",
        "            Y_train.append(1)\n",
        "    else:\n",
        "        Y_train.append(1)\n",
        "\n",
        "for i in y_test:\n",
        "    if i in att.keys():\n",
        "        if att[i] == 0:\n",
        "            Y_test.append(0)\n",
        "        else:\n",
        "            Y_test.append(1)\n",
        "    else:\n",
        "        Y_test.append(1)\n",
        "\n",
        "for i in y_test2:\n",
        "    if i in att.keys():\n",
        "        if att[i] == 0:\n",
        "            Y_test2.append(0)\n",
        "        else:\n",
        "            Y_test2.append(1)\n",
        "    else:\n",
        "        Y_test2.append(1)\n",
        "\n",
        "\n",
        "Y_train = np.asarray(Y_train)\n",
        "Y_test = np.asarray(Y_test)\n",
        "Y_test2 = np.asarray(Y_test2)"
      ]
    },
    {
      "cell_type": "code",
      "execution_count": 10,
      "metadata": {
        "id": "wnuoGmezethA"
      },
      "outputs": [],
      "source": [
        "#Initialize the no of hidden neurons, learning rate and epoch\n",
        "hidden_neurons = 80\n",
        "lr = 0.001\n",
        "ep = 30"
      ]
    },
    {
      "cell_type": "code",
      "execution_count": 11,
      "metadata": {
        "id": "w2Z3c78WethB"
      },
      "outputs": [
        {
          "name": "stderr",
          "output_type": "stream",
          "text": [
            "2022-07-17 00:21:48.950665: W tensorflow/stream_executor/platform/default/dso_loader.cc:64] Could not load dynamic library 'libcuda.so.1'; dlerror: libcuda.so.1: cannot open shared object file: No such file or directory\n",
            "2022-07-17 00:21:48.950704: W tensorflow/stream_executor/cuda/cuda_driver.cc:269] failed call to cuInit: UNKNOWN ERROR (303)\n",
            "2022-07-17 00:21:48.950733: I tensorflow/stream_executor/cuda/cuda_diagnostics.cc:156] kernel driver does not appear to be running on this host (nishanth-hp-spectre): /proc/driver/nvidia/version does not exist\n",
            "2022-07-17 00:21:48.951000: I tensorflow/core/platform/cpu_feature_guard.cc:151] This TensorFlow binary is optimized with oneAPI Deep Neural Network Library (oneDNN) to use the following CPU instructions in performance-critical operations:  AVX2 FMA\n",
            "To enable them in other operations, rebuild TensorFlow with the appropriate compiler flags.\n"
          ]
        }
      ],
      "source": [
        "classifier = Sequential()\n",
        "\n",
        "classifier.add(Dense(2048, activation='relu', input_dim=41)) #Since we have 42 columns\n",
        "\n",
        "classifier.add(Dense(1024, activation='relu')) #Since we have 42 columns\n",
        "\n",
        "classifier.add(Dense(512, activation='relu'))\n",
        "\n",
        "classifier.add(Dense(256, activation='relu'))\n",
        "\n",
        "classifier.add(Dense(128, activation='relu'))\n",
        "\n",
        "classifier.add(Dense(64, activation='relu'))\n",
        "\n",
        "classifier.add(Dense(32, activation='relu'))\n",
        "\n",
        "classifier.add(Dense(16, activation='relu'))\n",
        "\n",
        "classifier.add(Dense(8, activation='relu'))\n",
        "\n",
        "classifier.add(Dense(4, activation='relu'))\n",
        "\n",
        "classifier.add(Dense(2, activation='relu'))\n",
        "\n",
        "classifier.add(Dense(1, activation='sigmoid'))\n",
        "# opt = optimizers.Adam(learning_rate=lr)\n",
        "classifier.compile(optimizer = 'adam', loss = 'binary_crossentropy', metrics=['acc'])"
      ]
    },
    {
      "cell_type": "code",
      "execution_count": 12,
      "metadata": {
        "colab": {
          "base_uri": "https://localhost:8080/"
        },
        "id": "Pv_T-q-jfXIl",
        "outputId": "23b0159a-a035-492e-e5e4-993fe0782e9d"
      },
      "outputs": [
        {
          "name": "stdout",
          "output_type": "stream",
          "text": [
            "Model: \"sequential\"\n",
            "_________________________________________________________________\n",
            " Layer (type)                Output Shape              Param #   \n",
            "=================================================================\n",
            " dense (Dense)               (None, 2048)              86016     \n",
            "                                                                 \n",
            " dense_1 (Dense)             (None, 1024)              2098176   \n",
            "                                                                 \n",
            " dense_2 (Dense)             (None, 512)               524800    \n",
            "                                                                 \n",
            " dense_3 (Dense)             (None, 256)               131328    \n",
            "                                                                 \n",
            " dense_4 (Dense)             (None, 128)               32896     \n",
            "                                                                 \n",
            " dense_5 (Dense)             (None, 64)                8256      \n",
            "                                                                 \n",
            " dense_6 (Dense)             (None, 32)                2080      \n",
            "                                                                 \n",
            " dense_7 (Dense)             (None, 16)                528       \n",
            "                                                                 \n",
            " dense_8 (Dense)             (None, 8)                 136       \n",
            "                                                                 \n",
            " dense_9 (Dense)             (None, 4)                 36        \n",
            "                                                                 \n",
            " dense_10 (Dense)            (None, 2)                 10        \n",
            "                                                                 \n",
            " dense_11 (Dense)            (None, 1)                 3         \n",
            "                                                                 \n",
            "=================================================================\n",
            "Total params: 2,884,265\n",
            "Trainable params: 2,884,265\n",
            "Non-trainable params: 0\n",
            "_________________________________________________________________\n"
          ]
        }
      ],
      "source": [
        "classifier.summary()"
      ]
    },
    {
      "cell_type": "code",
      "execution_count": 13,
      "metadata": {
        "colab": {
          "base_uri": "https://localhost:8080/"
        },
        "id": "y35JRG8wethB",
        "outputId": "31ec600e-ef80-4114-cf5f-de0e3f588da1"
      },
      "outputs": [
        {
          "name": "stdout",
          "output_type": "stream",
          "text": [
            "Epoch 1/30\n",
            "3542/3543 [============================>.] - ETA: 0s - loss: 45.5867 - acc: 0.9067"
          ]
        },
        {
          "name": "stderr",
          "output_type": "stream",
          "text": [
            "2022-07-17 00:22:51.718661: W tensorflow/python/util/util.cc:368] Sets are not currently considered sequences, but this may change in the future, so consider avoiding using them.\n"
          ]
        },
        {
          "name": "stdout",
          "output_type": "stream",
          "text": [
            "INFO:tensorflow:Assets written to: Callback_Check_Point/assets\n",
            "3543/3543 [==============================] - 63s 18ms/step - loss: 45.5743 - acc: 0.9067 - val_loss: 0.2596 - val_acc: 0.9120\n",
            "Epoch 2/30\n",
            "3543/3543 [==============================] - ETA: 0s - loss: 0.2719 - acc: 0.9264INFO:tensorflow:Assets written to: Callback_Check_Point/assets\n",
            "3543/3543 [==============================] - 71s 20ms/step - loss: 0.2719 - acc: 0.9264 - val_loss: 0.1371 - val_acc: 0.9615\n",
            "Epoch 3/30\n",
            "3542/3543 [============================>.] - ETA: 0s - loss: 0.1564 - acc: 0.9539INFO:tensorflow:Assets written to: Callback_Check_Point/assets\n",
            "3543/3543 [==============================] - 66s 19ms/step - loss: 0.1563 - acc: 0.9539 - val_loss: 0.1800 - val_acc: 0.9479\n",
            "Epoch 4/30\n",
            "3543/3543 [==============================] - 64s 18ms/step - loss: 0.1782 - acc: 0.9477 - val_loss: 0.1751 - val_acc: 0.9486\n",
            "Epoch 5/30\n",
            "3543/3543 [==============================] - 64s 18ms/step - loss: 0.2038 - acc: 0.9487 - val_loss: 0.1749 - val_acc: 0.9484\n",
            "Epoch 6/30\n",
            "3543/3543 [==============================] - 64s 18ms/step - loss: 0.1732 - acc: 0.9490 - val_loss: 0.1762 - val_acc: 0.9482\n"
          ]
        }
      ],
      "source": [
        "#Fitting the NN to the training set\n",
        "start = datetime.now()\n",
        "keras_callback=[EarlyStopping(monitor='loss',patience=3,mode='min',min_delta=0.001), ModelCheckpoint('Callback_Check_Point',monitor='loss',save_best_only=True)]\n",
        "a = classifier.fit(x_train, Y_train, epochs = ep, validation_split = 0.10, callbacks=[keras_callback])\n",
        "train_time = datetime.now() - start"
      ]
    },
    {
      "cell_type": "code",
      "execution_count": 14,
      "metadata": {
        "id": "7JiE1iUnethC"
      },
      "outputs": [],
      "source": [
        "#Predicting the testing set\n",
        "pred = classifier.predict(x_test)\n",
        "pred1 = np.argmax(pred, axis=1)\n",
        "\n",
        "pred = classifier.predict(x_test2)\n",
        "pred2 = np.argmax(pred, axis=1)"
      ]
    },
    {
      "cell_type": "code",
      "execution_count": 15,
      "metadata": {
        "id": "frxrnYZVethC"
      },
      "outputs": [
        {
          "name": "stdout",
          "output_type": "stream",
          "text": [
            "Test+ Accuracy:  0.43075762952448543\n",
            "Test-21 Accuracy:  0.18160337552742617\n"
          ]
        }
      ],
      "source": [
        "#Print Accuracy\n",
        "test_accuracy = accuracy_score(Y_test, pred1)\n",
        "test2_accuracy = accuracy_score(Y_test2, pred2)\n",
        "print('Test+ Accuracy: ', test_accuracy)\n",
        "print('Test-21 Accuracy: ', test2_accuracy)"
      ]
    },
    {
      "cell_type": "code",
      "execution_count": 16,
      "metadata": {
        "id": "1ZBgW54kethC"
      },
      "outputs": [
        {
          "name": "stdout",
          "output_type": "stream",
          "text": [
            "Test+ Recall:  0.0\n",
            "Test-21 Recall:  0.0\n"
          ]
        }
      ],
      "source": [
        "# Recal Score\n",
        "test_recall=recall_score(Y_test, pred1)\n",
        "test2_recall=recall_score(Y_test2, pred2)\n",
        "print('Test+ Recall: ', test_recall)\n",
        "print('Test-21 Recall: ', test2_recall)"
      ]
    },
    {
      "cell_type": "code",
      "execution_count": 17,
      "metadata": {
        "id": "HDosHoSqethD"
      },
      "outputs": [
        {
          "name": "stdout",
          "output_type": "stream",
          "text": [
            "Confusion Matrix for test+ [[ 9711     0]\n",
            " [12833     0]]\n",
            "Confusion Matrix for test-21 [[2152    0]\n",
            " [9698    0]]\n"
          ]
        }
      ],
      "source": [
        "#Print Confusion Matrix\n",
        "cm_test = confusion_matrix(Y_test, pred1)\n",
        "cm_test2 = confusion_matrix(Y_test2, pred2)\n",
        "print('Confusion Matrix for test+', cm_test)\n",
        "print('Confusion Matrix for test-21', cm_test2)"
      ]
    },
    {
      "cell_type": "code",
      "execution_count": 18,
      "metadata": {
        "id": "EDScng6ZA-ED"
      },
      "outputs": [
        {
          "name": "stdout",
          "output_type": "stream",
          "text": [
            "Test+ dataset\n",
            "705/705 [==============================] - 3s 4ms/step - loss: 0.8308 - acc: 0.7335\n",
            "[0.8308380246162415, 0.7334545850753784]\n"
          ]
        }
      ],
      "source": [
        "# Evaluate classifier model for test+ data\n",
        "print(\"Test+ dataset\")\n",
        "print(classifier.evaluate(x_test, Y_test))"
      ]
    },
    {
      "cell_type": "code",
      "execution_count": 19,
      "metadata": {
        "id": "Ik0j2PjZBfBQ"
      },
      "outputs": [
        {
          "name": "stdout",
          "output_type": "stream",
          "text": [
            "Test-21 dataset\n",
            "371/371 [==============================] - 2s 4ms/step - loss: 1.5126 - acc: 0.4965\n",
            "[1.5125911235809326, 0.4965400695800781]\n"
          ]
        }
      ],
      "source": [
        "# Evaluate classifier model for test-21 data\n",
        "print(\"Test-21 dataset\")\n",
        "print(classifier.evaluate(x_test2, Y_test2))"
      ]
    },
    {
      "cell_type": "code",
      "execution_count": 20,
      "metadata": {
        "id": "oMCsbZjNethD"
      },
      "outputs": [
        {
          "name": "stdout",
          "output_type": "stream",
          "text": [
            "time taken for train+:  0:06:32.462527\n"
          ]
        }
      ],
      "source": [
        "#Print Time taken\n",
        "print('time taken for train+: ', train_time)"
      ]
    },
    {
      "cell_type": "code",
      "execution_count": 21,
      "metadata": {
        "id": "oj7qptAIethD"
      },
      "outputs": [
        {
          "data": {
            "image/png": "[encoded data removed]",
            "text/plain": [
              "<Figure size 432x288 with 1 Axes>"
            ]
          },
          "metadata": {
            "needs_background": "light"
          },
          "output_type": "display_data"
        }
      ],
      "source": [
        "plt.plot(a.history['acc'])\n",
        "plt.title('model accuracy')\n",
        "plt.ylabel('accuracy')\n",
        "plt.xlabel('epoch')\n",
        "plt.show()"
      ]
    },
    {
      "cell_type": "code",
      "execution_count": 22,
      "metadata": {},
      "outputs": [
        {
          "name": "stdout",
          "output_type": "stream",
          "text": [
            "Epoch 1/30\n",
            "3936/3937 [============================>.] - ETA: 0s - loss: 0.1759 - acc: 0.9484INFO:tensorflow:Assets written to: Callback_Check_Point/assets\n",
            "3937/3937 [==============================] - 65s 17ms/step - loss: 0.1759 - acc: 0.9484 - val_loss: 0.8275 - val_acc: 0.7401\n",
            "Epoch 2/30\n",
            "3935/3937 [============================>.] - ETA: 0s - loss: 0.1735 - acc: 0.9490INFO:tensorflow:Assets written to: Callback_Check_Point/assets\n",
            "3937/3937 [==============================] - 76s 19ms/step - loss: 0.1734 - acc: 0.9490 - val_loss: 0.8349 - val_acc: 0.7535\n",
            "Epoch 3/30\n",
            "3937/3937 [==============================] - 72s 18ms/step - loss: 0.6952 - acc: 0.9494 - val_loss: 0.7741 - val_acc: 0.7180\n",
            "Epoch 4/30\n",
            "3937/3937 [==============================] - ETA: 0s - loss: 0.1722 - acc: 0.9496INFO:tensorflow:Assets written to: Callback_Check_Point/assets\n",
            "3937/3937 [==============================] - 74s 19ms/step - loss: 0.1722 - acc: 0.9496 - val_loss: 0.8248 - val_acc: 0.7236\n",
            "Epoch 5/30\n",
            "3934/3937 [============================>.] - ETA: 0s - loss: 0.1707 - acc: 0.9499INFO:tensorflow:Assets written to: Callback_Check_Point/assets\n",
            "3937/3937 [==============================] - 75s 19ms/step - loss: 0.1708 - acc: 0.9498 - val_loss: 0.8487 - val_acc: 0.7306\n",
            "Epoch 6/30\n",
            "3937/3937 [==============================] - 74s 19ms/step - loss: 0.1714 - acc: 0.9498 - val_loss: 0.9267 - val_acc: 0.7142\n",
            "Epoch 7/30\n",
            "3937/3937 [==============================] - 72s 18ms/step - loss: 0.1718 - acc: 0.9498 - val_loss: 0.8400 - val_acc: 0.7309\n",
            "Epoch 8/30\n",
            "3937/3937 [==============================] - 72s 18ms/step - loss: 0.1770 - acc: 0.9492 - val_loss: 0.8471 - val_acc: 0.7409\n"
          ]
        }
      ],
      "source": [
        "#Fitting the RNN to the training set test+ as validation data\n",
        "start = datetime.now()\n",
        "keras_callback=[EarlyStopping(monitor='loss',patience=3,mode='min',min_delta=0.001), ModelCheckpoint('Callback_Check_Point',monitor='loss',save_best_only=True)]\n",
        "b = classifier.fit(x_train, Y_train, epochs = ep, validation_data=(x_test, Y_test), callbacks=[keras_callback])\n",
        "train_time = datetime.now() - start"
      ]
    },
    {
      "cell_type": "code",
      "execution_count": 29,
      "metadata": {},
      "outputs": [
        {
          "name": "stdout",
          "output_type": "stream",
          "text": [
            "Test+ dataset\n",
            "705/705 [==============================] - 2s 3ms/step - loss: 0.8471 - acc: 0.7409\n",
            "[0.8470892310142517, 0.7409066557884216]\n"
          ]
        }
      ],
      "source": [
        "# Evaluate classifier model for test+ data\n",
        "print(\"Test+ dataset\")\n",
        "print(classifier.evaluate(x_test, Y_test))"
      ]
    },
    {
      "cell_type": "code",
      "execution_count": 30,
      "metadata": {},
      "outputs": [
        {
          "name": "stdout",
          "output_type": "stream",
          "text": [
            "Test-21 dataset\n",
            "371/371 [==============================] - 1s 4ms/step - loss: 1.5309 - acc: 0.5116\n",
            "[1.53091299533844, 0.5116455554962158]\n"
          ]
        }
      ],
      "source": [
        "# Evaluate classifier model for test-21 data\n",
        "print(\"Test-21 dataset\")\n",
        "print(classifier.evaluate(x_test2, Y_test2))"
      ]
    },
    {
      "cell_type": "code",
      "execution_count": 31,
      "metadata": {},
      "outputs": [
        {
          "name": "stdout",
          "output_type": "stream",
          "text": [
            "time taken for train+ with test+ validation:  0:09:42.003916\n"
          ]
        }
      ],
      "source": [
        "#Print Time taken\n",
        "print('time taken for train+ with test+ validation: ', train_time)"
      ]
    },
    {
      "cell_type": "code",
      "execution_count": 32,
      "metadata": {},
      "outputs": [
        {
          "data": {
            "image/png": "[encoded data removed]",
            "text/plain": [
              "<Figure size 432x288 with 1 Axes>"
            ]
          },
          "metadata": {
            "needs_background": "light"
          },
          "output_type": "display_data"
        }
      ],
      "source": [
        "plt.plot(b.history['acc'])\n",
        "plt.title('model accuracy')\n",
        "plt.ylabel('accuracy')\n",
        "plt.xlabel('epoch')\n",
        "plt.show()"
      ]
    },
    {
      "cell_type": "code",
      "execution_count": 34,
      "metadata": {},
      "outputs": [
        {
          "name": "stdout",
          "output_type": "stream",
          "text": [
            "Epoch 1/30\n",
            "3937/3937 [==============================] - ETA: 0s - loss: 0.1943 - acc: 0.9503INFO:tensorflow:Assets written to: Callback_Check_Point/assets\n",
            "3937/3937 [==============================] - 74s 19ms/step - loss: 0.1943 - acc: 0.9503 - val_loss: 1.4816 - val_acc: 0.5228\n",
            "Epoch 2/30\n",
            "3936/3937 [============================>.] - ETA: 0s - loss: 0.1698 - acc: 0.9503INFO:tensorflow:Assets written to: Callback_Check_Point/assets\n",
            "3937/3937 [==============================] - 71s 18ms/step - loss: 0.1698 - acc: 0.9503 - val_loss: 1.5594 - val_acc: 0.4868\n",
            "Epoch 3/30\n",
            "3935/3937 [============================>.] - ETA: 0s - loss: 0.1697 - acc: 0.9506INFO:tensorflow:Assets written to: Callback_Check_Point/assets\n",
            "3937/3937 [==============================] - 70s 18ms/step - loss: 0.1698 - acc: 0.9506 - val_loss: 1.6988 - val_acc: 0.5032\n",
            "Epoch 4/30\n",
            "3937/3937 [==============================] - 72s 18ms/step - loss: 0.1719 - acc: 0.9501 - val_loss: 1.4852 - val_acc: 0.4725\n",
            "Epoch 5/30\n",
            "3937/3937 [==============================] - 70s 18ms/step - loss: 0.1700 - acc: 0.9504 - val_loss: 1.6702 - val_acc: 0.5484\n"
          ]
        }
      ],
      "source": [
        "#Fitting the NN to the training set with test-21 as validation data\n",
        "start = datetime.now()\n",
        "keras_callback=[EarlyStopping(monitor='loss',patience=3,mode='min',min_delta=0.001), ModelCheckpoint('Callback_Check_Point',monitor='loss',save_best_only=True)]\n",
        "c = classifier.fit(x_train, Y_train, epochs = ep, validation_data=(x_test2, Y_test2), callbacks=[keras_callback])\n",
        "train_time = datetime.now() - start"
      ]
    },
    {
      "cell_type": "code",
      "execution_count": 39,
      "metadata": {},
      "outputs": [
        {
          "name": "stdout",
          "output_type": "stream",
          "text": [
            "Test+ dataset\n",
            "705/705 [==============================] - 3s 4ms/step - loss: 0.9291 - acc: 0.7590\n",
            "[0.9291019439697266, 0.7590045928955078]\n"
          ]
        }
      ],
      "source": [
        "# Evaluate classifier model for test+ data\n",
        "print(\"Test+ dataset\")\n",
        "print(classifier.evaluate(x_test, Y_test))"
      ]
    },
    {
      "cell_type": "code",
      "execution_count": 40,
      "metadata": {},
      "outputs": [
        {
          "name": "stdout",
          "output_type": "stream",
          "text": [
            "Test-21 dataset\n",
            "371/371 [==============================] - 1s 4ms/step - loss: 1.6702 - acc: 0.5484\n",
            "[1.6702312231063843, 0.5484388470649719]\n"
          ]
        }
      ],
      "source": [
        "# Evaluate classifier model for test-21 data\n",
        "print(\"Test-21 dataset\")\n",
        "print(classifier.evaluate(x_test2, Y_test2))"
      ]
    },
    {
      "cell_type": "code",
      "execution_count": 41,
      "metadata": {},
      "outputs": [
        {
          "name": "stdout",
          "output_type": "stream",
          "text": [
            "time taken for train+ with test+ validation:  0:05:57.956938\n"
          ]
        }
      ],
      "source": [
        "#Print Time taken\n",
        "print('time taken for train+ with test+ validation: ', train_time)"
      ]
    },
    {
      "cell_type": "code",
      "execution_count": 42,
      "metadata": {},
      "outputs": [
        {
          "data": {
            "image/png": "[encoded data removed]",
            "text/plain": [
              "<Figure size 432x288 with 1 Axes>"
            ]
          },
          "metadata": {
            "needs_background": "light"
          },
          "output_type": "display_data"
        }
      ],
      "source": [
        "plt.plot(c.history['acc'])\n",
        "plt.title('model accuracy')\n",
        "plt.ylabel('accuracy')\n",
        "plt.xlabel('epoch')\n",
        "plt.show()"
      ]
    }
  ],
  "metadata": {
    "accelerator": "GPU",
    "colab": {
      "machine_shape": "hm",
      "name": "intrusion_detection_binary.ipynb",
      "provenance": []
    },
    "gpuClass": "standard",
    "kernelspec": {
      "display_name": "Python 3.10.4 64-bit",
      "language": "python",
      "name": "python3"
    },
    "language_info": {
      "codemirror_mode": {
        "name": "ipython",
        "version": 3
      },
      "file_extension": ".py",
      "mimetype": "text/x-python",
      "name": "python",
      "nbconvert_exporter": "python",
      "pygments_lexer": "ipython3",
      "version": "3.10.4"
    },
    "orig_nbformat": 4,
    "vscode": {
      "interpreter": {
        "hash": "916dbcbb3f70747c44a77c7bcd40155683ae19c65e1c03b4aa3499c5328201f1"
      }
    }
  },
  "nbformat": 4,
  "nbformat_minor": 0
}
